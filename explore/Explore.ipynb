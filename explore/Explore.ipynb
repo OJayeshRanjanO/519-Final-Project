{
 "cells": [
  {
   "cell_type": "code",
   "execution_count": null,
   "metadata": {},
   "outputs": [],
   "source": [
    "import numpy as np\n",
    "import pandas as pd\n",
    "import stateEngine\n",
    "from sklearn.linear_model import ElasticNetCV\n",
    "from sklearn.datasets import make_regression"
   ]
  },
  {
   "cell_type": "code",
   "execution_count": null,
   "metadata": {},
   "outputs": [],
   "source": [
    "corpus = pd.read_csv(\"content/output.csv\")\n",
    "corpus.head()"
   ]
  },
  {
   "cell_type": "code",
   "execution_count": null,
   "metadata": {},
   "outputs": [],
   "source": [
    "features = []\n",
    "game = 0\n",
    "prev = None\n",
    "count = 0\n",
    "for r in corpus.values:\n",
    "    x = r.astype(np.int).tolist()\n",
    "    v = [x[0], x[1:43], x[43:45], x[45:47], x[47:]]\n",
    "    s = stateEngine.State(1, v)\n",
    "    \n",
    "    turnNo = s.currentTurnNumber()\n",
    "    \n",
    "    if(prev is None or turnNo < prev):\n",
    "        game += 1\n",
    "        \n",
    "    features.append(np.append(np.array([game]), np.append(r, s.extract_features())))\n",
    "    \n",
    "    prev = turnNo\n",
    "    \n",
    "print(count)\n",
    "output = np.array(features)\n",
    "headers = ['game'] + corpus.columns.values.tolist() + stateEngine.State(1, [[]]).extract_headers()\n",
    "corpus = pd.DataFrame(output, columns=headers)\n",
    "corpus.shape"
   ]
  },
  {
   "cell_type": "code",
   "execution_count": null,
   "metadata": {
    "scrolled": true
   },
   "outputs": [],
   "source": [
    "pd.set_option('display.max_columns', 1000)\n",
    "corpus.head()"
   ]
  },
  {
   "cell_type": "code",
   "execution_count": null,
   "metadata": {},
   "outputs": [],
   "source": [
    "game_list = corpus['game'].unique()\n",
    "print(game_list)"
   ]
  },
  {
   "cell_type": "code",
   "execution_count": null,
   "metadata": {},
   "outputs": [],
   "source": [
    "#Group by the game\n",
    "game_list = corpus.groupby('game')\n",
    "\n",
    "print(len(game_list.groups))\n",
    "#For each game set up a DataFrame and run our regression.\n",
    "for group in game_list.groups:\n",
    "    #Split the target variable in this case, total_wealth\n",
    "    #The rest are predictors\n",
    "\n",
    "    \n",
    "\n",
    "\n",
    "\n",
    "\n",
    "    \n",
    "    \n",
    "    "
   ]
  },
  {
   "cell_type": "code",
   "execution_count": null,
   "metadata": {},
   "outputs": [],
   "source": [
    "regerssor_vector_p1 = []\n",
    "regressor_vector_p2 = []"
   ]
  },
  {
   "cell_type": "code",
   "execution_count": null,
   "metadata": {},
   "outputs": [],
   "source": []
  }
 ],
 "metadata": {
  "kernelspec": {
   "display_name": "Python 3",
   "language": "python",
   "name": "python3"
  },
  "language_info": {
   "codemirror_mode": {
    "name": "ipython",
    "version": 3
   },
   "file_extension": ".py",
   "mimetype": "text/x-python",
   "name": "python",
   "nbconvert_exporter": "python",
   "pygments_lexer": "ipython3",
   "version": "3.7.0"
  }
 },
 "nbformat": 4,
 "nbformat_minor": 2
}
