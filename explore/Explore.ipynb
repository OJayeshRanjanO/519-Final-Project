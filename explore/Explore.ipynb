{
 "cells": [
  {
   "cell_type": "code",
   "execution_count": null,
   "metadata": {},
   "outputs": [],
   "source": [
    "import numpy as np\n",
    "import pandas as pd\n",
    "import stateEngine\n",
    "from sklearn.linear_model import ElasticNetCV\n",
    "from sklearn.datasets import make_regression\n",
    "from sklearn.model_selection import train_test_split\n",
    "from sklearn.metrics import mean_squared_error"
   ]
  },
  {
   "cell_type": "code",
   "execution_count": null,
   "metadata": {},
   "outputs": [],
   "source": [
    "corpus = pd.read_csv(\"content/output.csv\")\n",
    "corpus.head()"
   ]
  },
  {
   "cell_type": "code",
   "execution_count": null,
   "metadata": {},
   "outputs": [],
   "source": [
    "features = []\n",
    "game = 0\n",
    "prev = None\n",
    "count = 0\n",
    "counter = 0\n",
    "for r in corpus.values:\n",
    "    counter += 1\n",
    "    if(counter%1000 == 0):\n",
    "        print(counter)\n",
    "    \n",
    "    x = r.tolist()\n",
    "    v = [x[0], x[1:43], x[43:45], x[45:47], x[47:]]\n",
    "    s = stateEngine.State(1, v)\n",
    "    \n",
    "    turnNo = s.currentTurnNumber()\n",
    "    \n",
    "    if(prev is None or turnNo < prev):\n",
    "        game += 1\n",
    "        \n",
    "    features.append(np.append(np.array([game]), np.append(r, s.extract_features())))\n",
    "    \n",
    "    prev = turnNo\n",
    "    \n",
    "output = np.array(features)\n",
    "headers = ['game'] + corpus.columns.values.tolist() + stateEngine.State(1, [[]]).extract_headers()\n",
    "corpus = pd.DataFrame(output, columns=headers)\n",
    "corpus = corpus[corpus.columns.drop(list(corpus.filter(regex='property')))]\n",
    "corpus.shape"
   ]
  },
  {
   "cell_type": "code",
   "execution_count": null,
   "metadata": {},
   "outputs": [],
   "source": []
  },
  {
   "cell_type": "code",
   "execution_count": null,
   "metadata": {
    "scrolled": true
   },
   "outputs": [],
   "source": [
    "pd.set_option('display.max_columns', 1000)\n",
    "corpus.head()"
   ]
  },
  {
   "cell_type": "code",
   "execution_count": null,
   "metadata": {},
   "outputs": [],
   "source": [
    "game_list = corpus['game'].nunique()\n",
    "print(game_list)"
   ]
  },
  {
   "cell_type": "code",
   "execution_count": null,
   "metadata": {},
   "outputs": [],
   "source": [
    "#Group by the game\n",
    "game_list = corpus.groupby('game')\n",
    "games = [group for _, group in game_list if group.values.shape[0] > 50]\n",
    "print(len(games))"
   ]
  },
  {
   "cell_type": "code",
   "execution_count": null,
   "metadata": {},
   "outputs": [],
   "source": [
    "regressor_vector_p1 = []\n",
    "regressor_vector_p2 = []\n",
    "test_set_x_1 = []\n",
    "test_set_y_1 = []\n",
    "test_set_x_2 = []\n",
    "test_set_y_2 = []"
   ]
  },
  {
   "cell_type": "code",
   "execution_count": null,
   "metadata": {},
   "outputs": [],
   "source": [
    "counter = 0\n",
    "for game in games:\n",
    "    \n",
    "    counter += 1\n",
    "    if(counter%1000 == 0):\n",
    "        print(counter)\n",
    "    \n",
    "    t1 = game['agent_netwealth_1'].values\n",
    "    t2 = game['agent_netwealth_2'].values\n",
    "    \n",
    "    X1_train, X1_test, y1_train, y1_test = train_test_split(game.drop('agent_netwealth_1', axis=1).values, t1, test_size=0.15)\n",
    "    X2_train, X2_test, y2_train, y2_test = train_test_split(game.drop('agent_netwealth_2', axis=1).values, t2, test_size=0.15)\n",
    "    \n",
    "    e_net1 = ElasticNetCV(cv=10, random_state=0, max_iter=1e5, n_jobs=-1)\n",
    "    e_net1.fit(X1_train, y1_train)    \n",
    "    \n",
    "    e_net2 = ElasticNetCV(cv=10, random_state=0, max_iter=1e5, n_jobs=-1)\n",
    "    e_net2.fit(X2_train, y2_train)\n",
    "    \n",
    "    test_set_x_2.append(X2_test)\n",
    "    test_set_y_2.append(y2_test)\n",
    "    test_set_x_1.append(X1_test)\n",
    "    test_set_y_1.append(y1_test)\n",
    "    \n",
    "    regressor_vector_p1.append(e_net1.coef_)\n",
    "    regressor_vector_p2.append(e_net2.coef_)"
   ]
  },
  {
   "cell_type": "code",
   "execution_count": null,
   "metadata": {},
   "outputs": [],
   "source": [
    "weight1 = np.mean(np.array(regressor_vector_p1), axis=0)\n",
    "weight2 = np.mean(np.array(regressor_vector_p2), axis=0)"
   ]
  },
  {
   "cell_type": "code",
   "execution_count": null,
   "metadata": {},
   "outputs": [],
   "source": [
    "# np.concatenate(np.array(test_set_y_1))\n",
    "y_hat_1 = np.dot(np.concatenate(np.array(test_set_x_1)), weight1.reshape(-1, 1)).flatten()\n",
    "mean_squared_error(np.concatenate(np.array(test_set_y_1)), y_hat_1)"
   ]
  },
  {
   "cell_type": "code",
   "execution_count": null,
   "metadata": {},
   "outputs": [],
   "source": [
    "y_hat_2 = np.dot(np.concatenate(np.array(test_set_x_2)), weight1.reshape(-1, 1)).flatten()\n",
    "mean_squared_error(np.concatenate(np.array(test_set_y_2)), y_hat_2)"
   ]
  },
  {
   "cell_type": "code",
   "execution_count": null,
   "metadata": {},
   "outputs": [],
   "source": []
  }
 ],
 "metadata": {
  "kernelspec": {
   "display_name": "Python 3",
   "language": "python",
   "name": "python3"
  },
  "language_info": {
   "codemirror_mode": {
    "name": "ipython",
    "version": 3
   },
   "file_extension": ".py",
   "mimetype": "text/x-python",
   "name": "python",
   "nbconvert_exporter": "python",
   "pygments_lexer": "ipython3",
   "version": "3.6.5"
  }
 },
 "nbformat": 4,
 "nbformat_minor": 2
}
